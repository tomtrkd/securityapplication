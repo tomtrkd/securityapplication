{
 "cells": [
  {
   "cell_type": "code",
   "execution_count": 8,
   "metadata": {
    "tags": []
   },
   "outputs": [],
   "source": [
    "import pickle"
   ]
  },
  {
   "cell_type": "code",
   "execution_count": 9,
   "metadata": {},
   "outputs": [],
   "source": [
    "known_safe = set()"
   ]
  },
  {
   "cell_type": "code",
   "execution_count": 10,
   "metadata": {},
   "outputs": [],
   "source": [
    "known_safe.add(\"google.com\")\n",
    "known_safe.add(\"facebook.com\")\n",
    "known_safe.add(\"ebay.co.uk\")\n",
    "known_safe.add(\"bbc.co.uk\")\n",
    "known_safe.add(\"twitter.com\")\n",
    "known_safe.add(\"youtube.com\")\n",
    "known_safe.add(\"gov.uk\")\n",
    "known_safe.add(\"github.com\")\n",
    "known_safe.add(\"en.wikipedia.org\")\n",
    "known_safe.add(\"netflix.com\")\n",
    "known_safe.add(\"barclays.co.uk\")\n",
    "known_safe.add(\"nationwide.co.uk\")\n",
    "known_safe.add(\"apple.com\")"
   ]
  },
  {
   "cell_type": "code",
   "execution_count": 11,
   "metadata": {},
   "outputs": [],
   "source": [
    "file_out = open(\"known_safe.pickle\",\"wb\")\n",
    "pickle.dump(known_safe, file_out)\n",
    "file_out.close()\n",
    "\n",
    "\n"
   ]
  }
 ],
 "metadata": {
  "interpreter": {
   "hash": "31f2aee4e71d21fbe5cf8b01ff0e069b9275f58929596ceb00d14d90e3e16cd6"
  },
  "kernelspec": {
   "display_name": "Python 3.8.10 64-bit",
   "name": "python3"
  },
  "language_info": {
   "codemirror_mode": {
    "name": "ipython",
    "version": 3
   },
   "file_extension": ".py",
   "mimetype": "text/x-python",
   "name": "python",
   "nbconvert_exporter": "python",
   "pygments_lexer": "ipython3",
   "version": "3.8.10"
  },
  "orig_nbformat": 4
 },
 "nbformat": 4,
 "nbformat_minor": 2
}
