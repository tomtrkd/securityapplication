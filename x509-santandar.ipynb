{
 "cells": [
  {
   "cell_type": "code",
   "execution_count": 1,
   "metadata": {},
   "outputs": [
    {
     "name": "stdout",
     "output_type": "stream",
     "text": [
      "Defaulting to user installation because normal site-packages is not writeable\n",
      "Requirement already satisfied: pyopenssl in c:\\users\\damien\\appdata\\roaming\\python\\python39\\site-packages (20.0.1)\n",
      "Requirement already satisfied: six>=1.5.2 in c:\\users\\damien\\appdata\\roaming\\python\\python39\\site-packages (from pyopenssl) (1.16.0)\n",
      "Requirement already satisfied: cryptography>=3.2 in c:\\users\\damien\\appdata\\roaming\\python\\python39\\site-packages (from pyopenssl) (3.4.7)\n",
      "Requirement already satisfied: cffi>=1.12 in c:\\users\\damien\\appdata\\roaming\\python\\python39\\site-packages (from cryptography>=3.2->pyopenssl) (1.14.5)\n",
      "Requirement already satisfied: pycparser in c:\\users\\damien\\appdata\\roaming\\python\\python39\\site-packages (from cffi>=1.12->cryptography>=3.2->pyopenssl) (2.20)\n",
      "Defaulting to user installation because normal site-packages is not writeable\n",
      "Requirement already satisfied: cryptography in c:\\users\\damien\\appdata\\roaming\\python\\python39\\site-packages (3.4.7)\n",
      "Requirement already satisfied: cffi>=1.12 in c:\\users\\damien\\appdata\\roaming\\python\\python39\\site-packages (from cryptography) (1.14.5)\n",
      "Requirement already satisfied: pycparser in c:\\users\\damien\\appdata\\roaming\\python\\python39\\site-packages (from cffi>=1.12->cryptography) (2.20)\n",
      "Defaulting to user installation because normal site-packages is not writeable\n",
      "Requirement already satisfied: idna in c:\\users\\damien\\appdata\\roaming\\python\\python39\\site-packages (3.2)\n"
     ]
    }
   ],
   "source": [
    "!pip install pyopenssl\n",
    "!pip install cryptography\n",
    "!pip install idna"
   ]
  },
  {
   "cell_type": "code",
   "execution_count": 2,
   "metadata": {},
   "outputs": [],
   "source": [
    "from OpenSSL import SSL\n",
    "from cryptography import x509\n",
    "from cryptography.x509.oid import NameOID\n",
    "import idna\n",
    "\n",
    "from socket import socket\n",
    "from collections import namedtuple"
   ]
  },
  {
   "cell_type": "code",
   "execution_count": 3,
   "metadata": {},
   "outputs": [],
   "source": [
    "HostInfo = namedtuple(field_names='cert hostname peername', typename='HostInfo')\n",
    "\n",
    "def get_certificate(hostname, port):\n",
    "    hostname_idna = idna.encode(hostname)\n",
    "    sock = socket()\n",
    "\n",
    "    sock.connect((hostname, port))\n",
    "    peername = sock.getpeername()\n",
    "    ctx = SSL.Context(SSL.SSLv23_METHOD) # most compatible\n",
    "    ctx.check_hostname = False\n",
    "    ctx.verify_mode = SSL.VERIFY_NONE\n",
    "\n",
    "    sock_ssl = SSL.Connection(ctx, sock)\n",
    "    sock_ssl.set_connect_state()\n",
    "    sock_ssl.set_tlsext_host_name(hostname_idna)\n",
    "    sock_ssl.do_handshake()\n",
    "    cert = sock_ssl.get_peer_certificate()\n",
    "    crypto_cert = cert.to_cryptography()\n",
    "    sock_ssl.close()\n",
    "    sock.close()\n",
    "\n",
    "    return HostInfo(cert=crypto_cert, peername=peername, hostname=hostname)"
   ]
  },
  {
   "cell_type": "code",
   "execution_count": 4,
   "metadata": {},
   "outputs": [],
   "source": [
    "test_data = get_certificate(\"santander.co.uk\", 443)"
   ]
  },
  {
   "cell_type": "code",
   "execution_count": 5,
   "metadata": {},
   "outputs": [
    {
     "name": "stdout",
     "output_type": "stream",
     "text": [
      "<Extension(oid=<ObjectIdentifier(oid=2.5.29.32, name=certificatePolicies)>, critical=False, value=<CertificatePolicies([<PolicyInformation(policy_identifier=<ObjectIdentifier(oid=2.16.840.1.114028.10.1.5, name=Unknown OID)>, policy_qualifiers=['https://www.entrust.net/rpa'])>, <PolicyInformation(policy_identifier=<ObjectIdentifier(oid=2.23.140.1.2.2, name=Unknown OID)>, policy_qualifiers=None)>])>)>\n"
     ]
    }
   ],
   "source": [
    "cert_pol = test_data.cert.extensions.get_extension_for_class(x509.CertificatePolicies)\n",
    "cert_pol = str(cert_pol)\n",
    "print(cert_pol)"
   ]
  },
  {
   "cell_type": "code",
   "execution_count": 6,
   "metadata": {},
   "outputs": [
    {
     "name": "stdout",
     "output_type": "stream",
     "text": [
      "OV Cert\n"
     ]
    }
   ],
   "source": [
    "DV = \"2.23.140.1.2.1\"\n",
    "OV = \"2.23.140.1.2.2\"\n",
    "EV = \"2.23.140.1.1\"\n",
    "\n",
    "if DV in cert_pol:\n",
    "    print(\"DV Cert\")\n",
    "\n",
    "elif EV in cert_pol:\n",
    "    print(\"EV Cert\")\n",
    "\n",
    "elif OV in cert_pol:\n",
    "    print(\"OV Cert\")\n",
    "\n",
    "else:\n",
    "    print(\"No CertificatePolicies Found\")"
   ]
  },
  {
   "cell_type": "code",
   "execution_count": 1,
   "metadata": {},
   "outputs": [
    {
     "name": "stdout",
     "output_type": "stream",
     "text": [
      "Defaulting to user installation because normal site-packages is not writeable\n",
      "Collecting check-tls-certs\n",
      "  Downloading check-tls-certs-0.12.0.tar.gz (9.3 kB)\n",
      "Collecting click\n",
      "  Downloading click-8.1.3-py3-none-any.whl (96 kB)\n",
      "Requirement already satisfied: pyOpenSSL in c:\\users\\damien\\appdata\\roaming\\python\\python39\\site-packages (from check-tls-certs) (20.0.1)\n",
      "Requirement already satisfied: colorama in c:\\users\\damien\\appdata\\roaming\\python\\python39\\site-packages (from click->check-tls-certs) (0.4.4)\n",
      "Requirement already satisfied: six>=1.5.2 in c:\\users\\damien\\appdata\\roaming\\python\\python39\\site-packages (from pyOpenSSL->check-tls-certs) (1.16.0)\n",
      "Requirement already satisfied: cryptography>=3.2 in c:\\users\\damien\\appdata\\roaming\\python\\python39\\site-packages (from pyOpenSSL->check-tls-certs) (3.4.7)\n"
     ]
    },
    {
     "name": "stderr",
     "output_type": "stream",
     "text": [
      "WARNING: You are using pip version 21.1.2; however, version 22.2.2 is available.\n",
      "You should consider upgrading via the 'c:\\program files\\python39\\python.exe -m pip install --upgrade pip' command.\n"
     ]
    },
    {
     "name": "stdout",
     "output_type": "stream",
     "text": [
      "Requirement already satisfied: cffi>=1.12 in c:\\users\\damien\\appdata\\roaming\\python\\python39\\site-packages (from cryptography>=3.2->pyOpenSSL->check-tls-certs) (1.14.5)\n",
      "Requirement already satisfied: pycparser in c:\\users\\damien\\appdata\\roaming\\python\\python39\\site-packages (from cffi>=1.12->cryptography>=3.2->pyOpenSSL->check-tls-certs) (2.20)\n",
      "Using legacy 'setup.py install' for check-tls-certs, since package 'wheel' is not installed.\n",
      "Installing collected packages: click, check-tls-certs\n",
      "    Running setup.py install for check-tls-certs: started\n",
      "    Running setup.py install for check-tls-certs: finished with status 'done'\n",
      "Successfully installed check-tls-certs-0.12.0 click-8.1.3\n"
     ]
    }
   ],
   "source": [
    "!pip install check-tls-certs"
   ]
  },
  {
   "cell_type": "code",
   "execution_count": 4,
   "metadata": {},
   "outputs": [],
   "source": [
    "import check_tls_certs \n"
   ]
  },
  {
   "cell_type": "code",
   "execution_count": 6,
   "metadata": {},
   "outputs": [
    {
     "ename": "TypeError",
     "evalue": "'module' object is not callable",
     "output_type": "error",
     "traceback": [
      "\u001b[1;31m---------------------------------------------------------------------------\u001b[0m",
      "\u001b[1;31mTypeError\u001b[0m                                 Traceback (most recent call last)",
      "\u001b[1;32m<ipython-input-6-beb1ea678049>\u001b[0m in \u001b[0;36m<module>\u001b[1;34m\u001b[0m\n\u001b[1;32m----> 1\u001b[1;33m \u001b[0mcheck_tls_certs\u001b[0m\u001b[1;33m(\u001b[0m\u001b[1;34m\"test.com\"\u001b[0m\u001b[1;33m)\u001b[0m\u001b[1;33m\u001b[0m\u001b[1;33m\u001b[0m\u001b[0m\n\u001b[0m",
      "\u001b[1;31mTypeError\u001b[0m: 'module' object is not callable"
     ]
    }
   ],
   "source": [
    "check_tls_certs(\"test.com\")"
   ]
  }
 ],
 "metadata": {
  "kernelspec": {
   "display_name": "Python 3.9.5 64-bit",
   "language": "python",
   "name": "python3"
  },
  "language_info": {
   "codemirror_mode": {
    "name": "ipython",
    "version": 3
   },
   "file_extension": ".py",
   "mimetype": "text/x-python",
   "name": "python",
   "nbconvert_exporter": "python",
   "pygments_lexer": "ipython3",
   "version": "3.9.5"
  },
  "orig_nbformat": 4,
  "vscode": {
   "interpreter": {
    "hash": "11938c6bc6919ae2720b4d5011047913343b08a43b18698fd82dedb0d4417594"
   }
  }
 },
 "nbformat": 4,
 "nbformat_minor": 2
}
