{
 "cells": [
  {
   "cell_type": "code",
   "execution_count": 1,
   "metadata": {},
   "outputs": [
    {
     "name": "stdout",
     "output_type": "stream",
     "text": [
      "Defaulting to user installation because normal site-packages is not writeable\n",
      "Requirement already satisfied: pyopenssl in c:\\users\\damien\\appdata\\roaming\\python\\python39\\site-packages (20.0.1)\n",
      "Requirement already satisfied: six>=1.5.2 in c:\\users\\damien\\appdata\\roaming\\python\\python39\\site-packages (from pyopenssl) (1.16.0)\n",
      "Requirement already satisfied: cryptography>=3.2 in c:\\users\\damien\\appdata\\roaming\\python\\python39\\site-packages (from pyopenssl) (3.4.7)\n",
      "Requirement already satisfied: cffi>=1.12 in c:\\users\\damien\\appdata\\roaming\\python\\python39\\site-packages (from cryptography>=3.2->pyopenssl) (1.14.5)\n",
      "Requirement already satisfied: pycparser in c:\\users\\damien\\appdata\\roaming\\python\\python39\\site-packages (from cffi>=1.12->cryptography>=3.2->pyopenssl) (2.20)\n"
     ]
    },
    {
     "name": "stderr",
     "output_type": "stream",
     "text": [
      "WARNING: You are using pip version 21.1.2; however, version 22.2.2 is available.\n",
      "You should consider upgrading via the 'c:\\program files\\python39\\python.exe -m pip install --upgrade pip' command.\n"
     ]
    },
    {
     "name": "stdout",
     "output_type": "stream",
     "text": [
      "Defaulting to user installation because normal site-packages is not writeable\n",
      "Requirement already satisfied: cryptography in c:\\users\\damien\\appdata\\roaming\\python\\python39\\site-packages (3.4.7)\n",
      "Requirement already satisfied: cffi>=1.12 in c:\\users\\damien\\appdata\\roaming\\python\\python39\\site-packages (from cryptography) (1.14.5)\n",
      "Requirement already satisfied: pycparser in c:\\users\\damien\\appdata\\roaming\\python\\python39\\site-packages (from cffi>=1.12->cryptography) (2.20)\n"
     ]
    },
    {
     "name": "stderr",
     "output_type": "stream",
     "text": [
      "WARNING: You are using pip version 21.1.2; however, version 22.2.2 is available.\n",
      "You should consider upgrading via the 'c:\\program files\\python39\\python.exe -m pip install --upgrade pip' command.\n"
     ]
    },
    {
     "name": "stdout",
     "output_type": "stream",
     "text": [
      "Defaulting to user installation because normal site-packages is not writeable\n"
     ]
    },
    {
     "name": "stderr",
     "output_type": "stream",
     "text": [
      "WARNING: You are using pip version 21.1.2; however, version 22.2.2 is available.\n",
      "You should consider upgrading via the 'c:\\program files\\python39\\python.exe -m pip install --upgrade pip' command.\n"
     ]
    },
    {
     "name": "stdout",
     "output_type": "stream",
     "text": [
      "Requirement already satisfied: idna in c:\\users\\damien\\appdata\\roaming\\python\\python39\\site-packages (3.2)\n"
     ]
    }
   ],
   "source": [
    "!pip install pyopenssl\n",
    "!pip install cryptography\n",
    "!pip install idna"
   ]
  },
  {
   "cell_type": "code",
   "execution_count": 2,
   "metadata": {},
   "outputs": [],
   "source": [
    "from OpenSSL import SSL\n",
    "from cryptography import x509\n",
    "from cryptography.x509.oid import NameOID\n",
    "import idna\n",
    "\n",
    "from socket import socket\n",
    "from collections import namedtuple"
   ]
  },
  {
   "cell_type": "code",
   "execution_count": 3,
   "metadata": {},
   "outputs": [],
   "source": [
    "\n",
    "\n",
    "HostInfo = namedtuple(field_names='cert hostname peername', typename='HostInfo')\n",
    "\n",
    "\n",
    "def verify_cert(cert, hostname):\n",
    "    # verify notAfter/notBefore, CA trusted, servername/sni/hostname\n",
    "    cert.has_expired()\n",
    "    # service_identity.pyopenssl.verify_hostname(client_ssl, hostname)\n",
    "    # issuer\n",
    "\n",
    "def get_certificate(hostname, port):\n",
    "    \n",
    "    hostname_idna = idna.encode(hostname)\n",
    "    sock = socket()\n",
    "\n",
    "    sock.connect((hostname, port))\n",
    "    peername = sock.getpeername()\n",
    "    ctx = SSL.Context(SSL.SSLv23_METHOD) # most compatible\n",
    "    ctx.check_hostname = False\n",
    "    ctx.verify_mode = SSL.VERIFY_NONE\n",
    "\n",
    "    sock_ssl = SSL.Connection(ctx, sock)\n",
    "    sock_ssl.set_connect_state()\n",
    "    sock_ssl.set_tlsext_host_name(hostname_idna)\n",
    "    sock_ssl.do_handshake()\n",
    "    cert = sock_ssl.get_peer_certificate()\n",
    "    crypto_cert = cert.to_cryptography()\n",
    "    sock_ssl.close()\n",
    "    sock.close()\n",
    "\n",
    "    return HostInfo(cert=crypto_cert, peername=peername, hostname=hostname)\n",
    "\n",
    "def get_alt_names(cert):\n",
    "    try:\n",
    "        ext = cert.extensions.get_extension_for_class(x509.SubjectAlternativeName)\n",
    "        return ext.value.get_values_for_type(x509.DNSName)\n",
    "    except x509.ExtensionNotFound:\n",
    "        return None\n",
    "\n",
    "def get_common_name(cert):\n",
    "    try:\n",
    "        names = cert.subject.get_attributes_for_oid(NameOID.COMMON_NAME)\n",
    "        return names[0].value\n",
    "    except x509.ExtensionNotFound:\n",
    "        return None\n",
    "\n",
    "def get_issuer(cert):\n",
    "    try:\n",
    "        names = cert.issuer.get_attributes_for_oid(NameOID.COMMON_NAME)\n",
    "        return names[0].value\n",
    "    except x509.ExtensionNotFound:\n",
    "        return None\n",
    "\n",
    "\n",
    "def print_basic_info(hostinfo):\n",
    "    s = '''» {hostname} « … {peername}\n",
    "    \\tcommonName: {commonname}\n",
    "    \\tSAN: {SAN}\n",
    "    \\tissuer: {issuer}\n",
    "    \\tnotBefore: {notbefore}\n",
    "    \\tnotAfter:  {notafter}\n",
    "    '''.format(\n",
    "            hostname=hostinfo.hostname,\n",
    "            peername=hostinfo.peername,\n",
    "            commonname=get_common_name(hostinfo.cert),\n",
    "            SAN=get_alt_names(hostinfo.cert),\n",
    "            issuer=get_issuer(hostinfo.cert),\n",
    "            notbefore=hostinfo.cert.not_valid_before,\n",
    "            notafter=hostinfo.cert.not_valid_after\n",
    "    )\n",
    "    print(s)\n",
    "\n",
    "def check_it_out(hostname, port):\n",
    "    hostinfo = get_certificate(hostname, port)\n",
    "    print_basic_info(hostinfo)\n",
    "\n"
   ]
  },
  {
   "cell_type": "code",
   "execution_count": 8,
   "metadata": {},
   "outputs": [
    {
     "ename": "AttributeError",
     "evalue": "'str' object has no attribute 'has_expired'",
     "output_type": "error",
     "traceback": [
      "\u001b[1;31m---------------------------------------------------------------------------\u001b[0m",
      "\u001b[1;31mAttributeError\u001b[0m                            Traceback (most recent call last)",
      "\u001b[1;32m<ipython-input-8-28b1a9943f57>\u001b[0m in \u001b[0;36m<module>\u001b[1;34m\u001b[0m\n\u001b[1;32m----> 1\u001b[1;33m \u001b[0mtest_data\u001b[0m \u001b[1;33m=\u001b[0m \u001b[0mverify_cert\u001b[0m\u001b[1;33m(\u001b[0m\u001b[1;34m\"plymc.plymchurches.org.uk\"\u001b[0m\u001b[1;33m,\u001b[0m \u001b[1;36m443\u001b[0m\u001b[1;33m)\u001b[0m\u001b[1;33m\u001b[0m\u001b[1;33m\u001b[0m\u001b[0m\n\u001b[0m",
      "\u001b[1;32m<ipython-input-3-cdd1aa907a29>\u001b[0m in \u001b[0;36mverify_cert\u001b[1;34m(cert, hostname)\u001b[0m\n\u001b[0;32m      4\u001b[0m \u001b[1;32mdef\u001b[0m \u001b[0mverify_cert\u001b[0m\u001b[1;33m(\u001b[0m\u001b[0mcert\u001b[0m\u001b[1;33m,\u001b[0m \u001b[0mhostname\u001b[0m\u001b[1;33m)\u001b[0m\u001b[1;33m:\u001b[0m\u001b[1;33m\u001b[0m\u001b[1;33m\u001b[0m\u001b[0m\n\u001b[0;32m      5\u001b[0m     \u001b[1;31m# verify notAfter/notBefore, CA trusted, servername/sni/hostname\u001b[0m\u001b[1;33m\u001b[0m\u001b[1;33m\u001b[0m\u001b[1;33m\u001b[0m\u001b[0m\n\u001b[1;32m----> 6\u001b[1;33m     \u001b[0mcert\u001b[0m\u001b[1;33m.\u001b[0m\u001b[0mhas_expired\u001b[0m\u001b[1;33m(\u001b[0m\u001b[1;33m)\u001b[0m\u001b[1;33m\u001b[0m\u001b[1;33m\u001b[0m\u001b[0m\n\u001b[0m\u001b[0;32m      7\u001b[0m     \u001b[1;31m# service_identity.pyopenssl.verify_hostname(client_ssl, hostname)\u001b[0m\u001b[1;33m\u001b[0m\u001b[1;33m\u001b[0m\u001b[1;33m\u001b[0m\u001b[0m\n\u001b[0;32m      8\u001b[0m     \u001b[1;31m# issuer\u001b[0m\u001b[1;33m\u001b[0m\u001b[1;33m\u001b[0m\u001b[1;33m\u001b[0m\u001b[0m\n",
      "\u001b[1;31mAttributeError\u001b[0m: 'str' object has no attribute 'has_expired'"
     ]
    }
   ],
   "source": [
    "test_data = verify_cert(\"plymc.plymchurches.org.uk\", 443)"
   ]
  },
  {
   "cell_type": "code",
   "execution_count": 5,
   "metadata": {},
   "outputs": [
    {
     "name": "stdout",
     "output_type": "stream",
     "text": [
      "None\n"
     ]
    }
   ],
   "source": [
    "print(test_data)"
   ]
  },
  {
   "cell_type": "code",
   "execution_count": 6,
   "metadata": {},
   "outputs": [
    {
     "ename": "AttributeError",
     "evalue": "'NoneType' object has no attribute 'cert'",
     "output_type": "error",
     "traceback": [
      "\u001b[1;31m---------------------------------------------------------------------------\u001b[0m",
      "\u001b[1;31mAttributeError\u001b[0m                            Traceback (most recent call last)",
      "\u001b[1;32m<ipython-input-6-a0bda9045f95>\u001b[0m in \u001b[0;36m<module>\u001b[1;34m\u001b[0m\n\u001b[1;32m----> 1\u001b[1;33m \u001b[1;32mfor\u001b[0m \u001b[0mext\u001b[0m \u001b[1;32min\u001b[0m \u001b[0mtest_data\u001b[0m\u001b[1;33m.\u001b[0m\u001b[0mcert\u001b[0m\u001b[1;33m.\u001b[0m\u001b[0mextensions\u001b[0m\u001b[1;33m:\u001b[0m\u001b[1;33m\u001b[0m\u001b[1;33m\u001b[0m\u001b[0m\n\u001b[0m\u001b[0;32m      2\u001b[0m     \u001b[0mprint\u001b[0m\u001b[1;33m(\u001b[0m\u001b[0mext\u001b[0m\u001b[1;33m)\u001b[0m\u001b[1;33m\u001b[0m\u001b[1;33m\u001b[0m\u001b[0m\n\u001b[0;32m      3\u001b[0m     \u001b[0mprint\u001b[0m\u001b[1;33m(\u001b[0m\u001b[1;34m\"\\n\"\u001b[0m\u001b[1;33m)\u001b[0m\u001b[1;33m\u001b[0m\u001b[1;33m\u001b[0m\u001b[0m\n",
      "\u001b[1;31mAttributeError\u001b[0m: 'NoneType' object has no attribute 'cert'"
     ]
    }
   ],
   "source": [
    "for ext in test_data.cert.extensions:\n",
    "    print(ext)\n",
    "    print(\"\\n\")"
   ]
  }
 ],
 "metadata": {
  "kernelspec": {
   "display_name": "Python 3.9.5 64-bit",
   "language": "python",
   "name": "python3"
  },
  "language_info": {
   "codemirror_mode": {
    "name": "ipython",
    "version": 3
   },
   "file_extension": ".py",
   "mimetype": "text/x-python",
   "name": "python",
   "nbconvert_exporter": "python",
   "pygments_lexer": "ipython3",
   "version": "3.9.5"
  },
  "orig_nbformat": 4,
  "vscode": {
   "interpreter": {
    "hash": "11938c6bc6919ae2720b4d5011047913343b08a43b18698fd82dedb0d4417594"
   }
  }
 },
 "nbformat": 4,
 "nbformat_minor": 2
}
