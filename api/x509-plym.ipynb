{
 "cells": [
  {
   "cell_type": "code",
   "execution_count": 19,
   "metadata": {},
   "outputs": [
    {
     "name": "stdout",
     "output_type": "stream",
     "text": [
      "Defaulting to user installation because normal site-packages is not writeable\n",
      "Requirement already satisfied: pyopenssl in c:\\users\\damien\\appdata\\roaming\\python\\python39\\site-packages (20.0.1)\n",
      "Requirement already satisfied: cryptography>=3.2 in c:\\users\\damien\\appdata\\roaming\\python\\python39\\site-packages (from pyopenssl) (3.4.7)\n",
      "Requirement already satisfied: six>=1.5.2 in c:\\users\\damien\\appdata\\roaming\\python\\python39\\site-packages (from pyopenssl) (1.16.0)\n",
      "Requirement already satisfied: cffi>=1.12 in c:\\users\\damien\\appdata\\roaming\\python\\python39\\site-packages (from cryptography>=3.2->pyopenssl) (1.14.5)\n",
      "Requirement already satisfied: pycparser in c:\\users\\damien\\appdata\\roaming\\python\\python39\\site-packages (from cffi>=1.12->cryptography>=3.2->pyopenssl) (2.20)\n",
      "Defaulting to user installation because normal site-packages is not writeable\n",
      "Requirement already satisfied: cryptography in c:\\users\\damien\\appdata\\roaming\\python\\python39\\site-packages (3.4.7)\n",
      "Requirement already satisfied: cffi>=1.12 in c:\\users\\damien\\appdata\\roaming\\python\\python39\\site-packages (from cryptography) (1.14.5)\n",
      "Requirement already satisfied: pycparser in c:\\users\\damien\\appdata\\roaming\\python\\python39\\site-packages (from cffi>=1.12->cryptography) (2.20)\n",
      "Defaulting to user installation because normal site-packages is not writeable\n",
      "Requirement already satisfied: idna in c:\\users\\damien\\appdata\\roaming\\python\\python39\\site-packages (3.2)\n"
     ]
    }
   ],
   "source": [
    "!pip install pyopenssl\n",
    "!pip install cryptography\n",
    "!pip install idna"
   ]
  },
  {
   "cell_type": "code",
   "execution_count": 20,
   "metadata": {},
   "outputs": [],
   "source": [
    "from OpenSSL import SSL\n",
    "from cryptography import x509\n",
    "from cryptography.x509.oid import NameOID\n",
    "import idna\n",
    "\n",
    "from socket import socket\n",
    "from collections import namedtuple"
   ]
  },
  {
   "cell_type": "code",
   "execution_count": 21,
   "metadata": {},
   "outputs": [],
   "source": [
    "HostInfo = namedtuple(field_names='cert hostname peername', typename='HostInfo')\n",
    "\n",
    "def get_certificate(hostname, port):\n",
    "    hostname_idna = idna.encode(hostname)\n",
    "    sock = socket()\n",
    "\n",
    "    sock.connect((hostname, port))\n",
    "    peername = sock.getpeername()\n",
    "    ctx = SSL.Context(SSL.SSLv23_METHOD) # most compatible\n",
    "    ctx.check_hostname = False\n",
    "    ctx.verify_mode = SSL.VERIFY_NONE\n",
    "\n",
    "    sock_ssl = SSL.Connection(ctx, sock)\n",
    "    sock_ssl.set_connect_state()\n",
    "    sock_ssl.set_tlsext_host_name(hostname_idna)\n",
    "    sock_ssl.do_handshake()\n",
    "    cert = sock_ssl.get_peer_certificate()\n",
    "    crypto_cert = cert.to_cryptography()\n",
    "    sock_ssl.close()\n",
    "    sock.close()\n",
    "\n",
    "    return HostInfo(cert=crypto_cert, peername=peername, hostname=hostname)"
   ]
  },
  {
   "cell_type": "code",
   "execution_count": 22,
   "metadata": {},
   "outputs": [],
   "source": [
    "test_data = get_certificate(\"plymc.plymchurches.org.uk\", 443)"
   ]
  },
  {
   "cell_type": "code",
   "execution_count": 23,
   "metadata": {},
   "outputs": [
    {
     "name": "stdout",
     "output_type": "stream",
     "text": [
      "<Extension(oid=<ObjectIdentifier(oid=2.5.29.32, name=certificatePolicies)>, critical=False, value=<CertificatePolicies([<PolicyInformation(policy_identifier=<ObjectIdentifier(oid=2.23.140.1.2.1, name=Unknown OID)>, policy_qualifiers=None)>, <PolicyInformation(policy_identifier=<ObjectIdentifier(oid=1.3.6.1.4.1.44947.1.1.1, name=Unknown OID)>, policy_qualifiers=['http://cps.letsencrypt.org'])>])>)>\n"
     ]
    }
   ],
   "source": [
    "cert_pol = test_data.cert.extensions.get_extension_for_class(x509.CertificatePolicies)\n",
    "cert_pol = str(cert_pol)\n",
    "print(cert_pol)"
   ]
  },
  {
   "cell_type": "code",
   "execution_count": 24,
   "metadata": {},
   "outputs": [
    {
     "name": "stdout",
     "output_type": "stream",
     "text": [
      "DV Cert\n"
     ]
    }
   ],
   "source": [
    "DV = \"2.23.140.1.2.1\"\n",
    "OV = \"2.23.140.1.2.2\"\n",
    "EV = \"2.23.140.1.1\"\n",
    "\n",
    "if DV in cert_pol:\n",
    "    print(\"DV Cert\")\n",
    "\n",
    "elif EV in cert_pol:\n",
    "    print(\"EV Cert\")\n",
    "\n",
    "elif OV in cert_pol:\n",
    "    print(\"OV Cert\")\n",
    "\n",
    "else:\n",
    "    print(\"No CertificatePolicies Found\")"
   ]
  }
 ],
 "metadata": {
  "kernelspec": {
   "display_name": "Python 3.9.5 64-bit",
   "language": "python",
   "name": "python3"
  },
  "language_info": {
   "codemirror_mode": {
    "name": "ipython",
    "version": 3
   },
   "file_extension": ".py",
   "mimetype": "text/x-python",
   "name": "python",
   "nbconvert_exporter": "python",
   "pygments_lexer": "ipython3",
   "version": "3.9.5"
  },
  "orig_nbformat": 4,
  "vscode": {
   "interpreter": {
    "hash": "11938c6bc6919ae2720b4d5011047913343b08a43b18698fd82dedb0d4417594"
   }
  }
 },
 "nbformat": 4,
 "nbformat_minor": 2
}
