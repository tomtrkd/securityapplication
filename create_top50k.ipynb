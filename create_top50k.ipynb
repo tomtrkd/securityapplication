
    "file_out = open(\"top1m.pickle\",\"wb\")\n",
    "pickle.dump(top1m, file_out)\n",
    "file_out.close()"

    "file_out = open(\"top50k.pickle\",\"wb\")\n",
    "pickle.dump(top50k, file_out)\n",
    "file_out.close()\n",
    "\n",
    "\n"

   ]
  }
 ],
 "metadata": {
  "interpreter": {
   "hash": "31f2aee4e71d21fbe5cf8b01ff0e069b9275f58929596ceb00d14d90e3e16cd6"
  },
  "kernelspec": {
   "display_name": "Python 3.8.10 64-bit",
   "name": "python3"
  },
  "language_info": {
   "codemirror_mode": {
    "name": "ipython",
    "version": 3
   },
   "file_extension": ".py",
   "mimetype": "text/x-python",
   "name": "python",
   "nbconvert_exporter": "python",
   "pygments_lexer": "ipython3",
   "version": "3.8.10"
  },
  "orig_nbformat": 4
 },
 "nbformat": 4,
 "nbformat_minor": 2
}
